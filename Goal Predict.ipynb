{
 "cells": [
  {
   "cell_type": "code",
   "execution_count": 6,
   "id": "5bbb79b1",
   "metadata": {},
   "outputs": [],
   "source": [
    "import openai\n",
    "import time\n",
    "import numpy as np\n",
    "import pandas as pd\n",
    "import math"
   ]
  },
  {
   "cell_type": "code",
   "execution_count": null,
   "id": "dbf9e277",
   "metadata": {},
   "outputs": [],
   "source": [
    "home_wins_5 = 4\n",
    "home_loss_5 = 1\n",
    "away_win_5 = 2\n",
    "away_loss_5 = 3\n",
    "h2h_home_goals_5 = [0,2,3,1,1]\n",
    "h2h_away_goals_5 = [2,2,1,1,0]\n",
    "home_tean = \"Manchester Utd\"\n",
    "away_teamm = \"machester City\"\n",
    "home_win_prob = 60\n",
    "away_win_prob = 20\n",
    "draw_prob = 20"
   ]
  },
  {
   "cell_type": "markdown",
   "id": "b0b2b7b6",
   "metadata": {},
   "source": [
    "### Poisson formula: P(x, λ ) =(e– λ λx)/x!"
   ]
  },
  {
   "cell_type": "markdown",
   "id": "e9a26a82",
   "metadata": {},
   "source": [
    "### EG adjusted = average goals as home/awayH2H * average GF as home last 5 games/ average GA as away last 5 games"
   ]
  },
  {
   "cell_type": "code",
   "execution_count": 34,
   "id": "ab7ceac9",
   "metadata": {},
   "outputs": [],
   "source": [
    "home_eg = 0.99\n",
    "away_eg = 3\n",
    "def poisson_goal(g,eg):\n",
    "    return (math.e**(-eg)*eg**g)/(math.factorial(g))\n",
    "home_goals_probs = []\n",
    "for i in range(0,8):\n",
    "    prob = poisson_goal(i,home_eg)\n",
    "    home_goals_probs.append(prob)\n",
    "    "
   ]
  },
  {
   "cell_type": "code",
   "execution_count": 35,
   "id": "5c0c110f",
   "metadata": {},
   "outputs": [],
   "source": [
    "away_goals_probs = []\n",
    "for i in range(0,8):\n",
    "    prob = poisson_goal(i,away_eg)\n",
    "    away_goals_probs.append(prob)"
   ]
  },
  {
   "cell_type": "code",
   "execution_count": 53,
   "id": "aa0a693d",
   "metadata": {},
   "outputs": [
    {
     "data": {
      "text/plain": [
       "[0.04978706836786395,\n",
       " 0.14936120510359185,\n",
       " 0.22404180765538778,\n",
       " 0.22404180765538775,\n",
       " 0.16803135574154082,\n",
       " 0.10081881344492451,\n",
       " 0.05040940672246225,\n",
       " 0.02160403145248382]"
      ]
     },
     "execution_count": 53,
     "metadata": {},
     "output_type": "execute_result"
    }
   ],
   "source": [
    "away_goals_probs"
   ]
  },
  {
   "cell_type": "code",
   "execution_count": 37,
   "id": "13ddd20f",
   "metadata": {},
   "outputs": [
    {
     "data": {
      "text/plain": [
       "[0.3715766910220457,\n",
       " 0.36786092411182525,\n",
       " 0.1820911574353535,\n",
       " 0.060090081953666656,\n",
       " 0.014872295283532497,\n",
       " 0.002944714466139434,\n",
       " 0.0004858778869130067,\n",
       " 6.871701543483951e-05]"
      ]
     },
     "execution_count": 37,
     "metadata": {},
     "output_type": "execute_result"
    }
   ],
   "source": [
    "home_goals_probs"
   ]
  },
  {
   "cell_type": "code",
   "execution_count": 42,
   "id": "59e714ff",
   "metadata": {},
   "outputs": [],
   "source": [
    "draw_prob = sum(np.array(home_goals_probs)*np.array(away_goals_probs))"
   ]
  },
  {
   "cell_type": "code",
   "execution_count": 47,
   "id": "716a712a",
   "metadata": {},
   "outputs": [],
   "source": [
    "home_win_prob_list = []\n",
    "for i in range(0,len(home_goals_probs)):\n",
    "    for j in range(0,len(away_goals_probs)):\n",
    "        if j < i:\n",
    "            home_win_prob_list.append(home_goals_probs[i]*away_goals_probs[j])\n",
    "            "
   ]
  },
  {
   "cell_type": "code",
   "execution_count": 49,
   "id": "949a8cf9",
   "metadata": {},
   "outputs": [
    {
     "data": {
      "text/plain": [
       "0.09254544291339192"
      ]
     },
     "execution_count": 49,
     "metadata": {},
     "output_type": "execute_result"
    }
   ],
   "source": [
    "home_win_prob = sum(home_win_prob_list)"
   ]
  },
  {
   "cell_type": "code",
   "execution_count": 51,
   "id": "b275e5e4",
   "metadata": {},
   "outputs": [],
   "source": [
    "away_win_prob = 1 - draw_prob - home_win_prob"
   ]
  },
  {
   "cell_type": "code",
   "execution_count": 52,
   "id": "de653559",
   "metadata": {},
   "outputs": [
    {
     "data": {
      "text/plain": [
       "0.7769300974395149"
      ]
     },
     "execution_count": 52,
     "metadata": {},
     "output_type": "execute_result"
    }
   ],
   "source": [
    "away_win_prob"
   ]
  },
  {
   "cell_type": "code",
   "execution_count": 48,
   "id": "4ba6a049",
   "metadata": {},
   "outputs": [],
   "source": []
  },
  {
   "cell_type": "code",
   "execution_count": null,
   "id": "d0711867",
   "metadata": {},
   "outputs": [],
   "source": []
  },
  {
   "cell_type": "code",
   "execution_count": null,
   "id": "36614590",
   "metadata": {},
   "outputs": [],
   "source": []
  },
  {
   "cell_type": "code",
   "execution_count": null,
   "id": "b257b90b",
   "metadata": {},
   "outputs": [],
   "source": []
  },
  {
   "cell_type": "code",
   "execution_count": 39,
   "id": "38f1d5da",
   "metadata": {},
   "outputs": [],
   "source": [
    "prompt = \"\"\"Bạn là một chuyên gia về nhận định kèo đấu bóng đá. Bạn đưa ra nhận định dựa trên những số liệu được cung cấp\n",
    "mà không sử dụng thêm thông tin bên ngoài.  Các số liệu thống kê trước trận đấu giữa team A và team B được trình bày như sau:\n",
    "\"Trong 5 lần gặp nhau gần nhất giữa team A và team B, team A thắng 3 thua 1 và hòa 1. Trong 5 trận gần nhất của giải đấu,\n",
    "team A thắng 1, thua 4 hòa 0. Trong 5 trận gần nhất của giải đấu team B thắng 3, hòa 2, thua 0.\n",
    "Các chuyên gia dự đoán tỉ số của trận đấu này sẽ là 1-1. Xác suất thắng của team A là 60%, xác suất thắng của team B là 10% \n",
    "và xác suất để 2 đội hòa nhau là 30% \". Hãy viết một bài nhận định và dự đoán về trận đấu giữa team A và team B.\n",
    "Bài viết phải có sắc thái chuyên nghiệp, khách quan và có tính thuyết phục. \n",
    "Bài viết phải sử dụng toàn bộ các thông tin đã được cung cấp.\"\"\""
   ]
  },
  {
   "cell_type": "code",
   "execution_count": 40,
   "id": "aae863bb",
   "metadata": {},
   "outputs": [
    {
     "data": {
      "text/plain": [
       "str"
      ]
     },
     "execution_count": 40,
     "metadata": {},
     "output_type": "execute_result"
    }
   ],
   "source": [
    "type(prompt)"
   ]
  },
  {
   "cell_type": "code",
   "execution_count": null,
   "id": "ea718afc",
   "metadata": {},
   "outputs": [],
   "source": []
  }
 ],
 "metadata": {
  "kernelspec": {
   "display_name": "Python 3 (ipykernel)",
   "language": "python",
   "name": "python3"
  },
  "language_info": {
   "codemirror_mode": {
    "name": "ipython",
    "version": 3
   },
   "file_extension": ".py",
   "mimetype": "text/x-python",
   "name": "python",
   "nbconvert_exporter": "python",
   "pygments_lexer": "ipython3",
   "version": "3.11.5"
  }
 },
 "nbformat": 4,
 "nbformat_minor": 5
}
